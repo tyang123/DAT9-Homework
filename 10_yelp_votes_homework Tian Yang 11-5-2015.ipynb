{
 "cells": [
  {
   "cell_type": "markdown",
   "metadata": {},
   "source": [
    "# Linear regression homework with Yelp votes"
   ]
  },
  {
   "cell_type": "markdown",
   "metadata": {},
   "source": [
    "## Introduction\n",
    "\n",
    "This assignment uses a small subset of the data from Kaggle's [Yelp Business Rating Prediction](https://www.kaggle.com/c/yelp-recsys-2013) competition.\n",
    "\n",
    "**Description of the data:**\n",
    "\n",
    "- `yelp.json` is the original format of the file. `yelp.csv` contains the same data, in a more convenient format. Both of the files are in this repo, so there is no need to download the data from the Kaggle website.\n",
    "- Each observation in this dataset is a review of a particular business by a particular user.\n",
    "- The \"stars\" column is the number of stars (1 through 5) assigned by the reviewer to the business. (Higher stars is better.) In other words, it is the rating of the business by the person who wrote the review.\n",
    "- The \"cool\" column is the number of \"cool\" votes this review received from other Yelp users. All reviews start with 0 \"cool\" votes, and there is no limit to how many \"cool\" votes a review can receive. In other words, it is a rating of the review itself, not a rating of the business.\n",
    "- The \"useful\" and \"funny\" columns are similar to the \"cool\" column."
   ]
  },
  {
   "cell_type": "markdown",
   "metadata": {},
   "source": [
    "## Task 1\n",
    "\n",
    "Read `yelp.csv` into a DataFrame."
   ]
  },
  {
   "cell_type": "code",
   "execution_count": 245,
   "metadata": {
    "collapsed": false
   },
   "outputs": [
    {
     "data": {
      "text/html": [
       "<div>\n",
       "<table border=\"1\" class=\"dataframe\">\n",
       "  <thead>\n",
       "    <tr style=\"text-align: right;\">\n",
       "      <th></th>\n",
       "      <th>business_id</th>\n",
       "      <th>date</th>\n",
       "      <th>stars</th>\n",
       "      <th>text</th>\n",
       "      <th>type</th>\n",
       "      <th>user_id</th>\n",
       "      <th>cool</th>\n",
       "      <th>useful</th>\n",
       "      <th>funny</th>\n",
       "    </tr>\n",
       "    <tr>\n",
       "      <th>review_id</th>\n",
       "      <th></th>\n",
       "      <th></th>\n",
       "      <th></th>\n",
       "      <th></th>\n",
       "      <th></th>\n",
       "      <th></th>\n",
       "      <th></th>\n",
       "      <th></th>\n",
       "      <th></th>\n",
       "    </tr>\n",
       "  </thead>\n",
       "  <tbody>\n",
       "    <tr>\n",
       "      <th>fWKvX83p0-ka4JS3dc6E5A</th>\n",
       "      <td>9yKzy9PApeiPPOUJEtnvkg</td>\n",
       "      <td>2011-01-26</td>\n",
       "      <td>5</td>\n",
       "      <td>My wife took me here on my birthday for breakf...</td>\n",
       "      <td>review</td>\n",
       "      <td>rLtl8ZkDX5vH5nAx9C3q5Q</td>\n",
       "      <td>2</td>\n",
       "      <td>5</td>\n",
       "      <td>0</td>\n",
       "    </tr>\n",
       "    <tr>\n",
       "      <th>IjZ33sJrzXqU-0X6U8NwyA</th>\n",
       "      <td>ZRJwVLyzEJq1VAihDhYiow</td>\n",
       "      <td>2011-07-27</td>\n",
       "      <td>5</td>\n",
       "      <td>I have no idea why some people give bad review...</td>\n",
       "      <td>review</td>\n",
       "      <td>0a2KyEL0d3Yb1V6aivbIuQ</td>\n",
       "      <td>0</td>\n",
       "      <td>0</td>\n",
       "      <td>0</td>\n",
       "    </tr>\n",
       "    <tr>\n",
       "      <th>IESLBzqUCLdSzSqm0eCSxQ</th>\n",
       "      <td>6oRAC4uyJCsJl1X0WZpVSA</td>\n",
       "      <td>2012-06-14</td>\n",
       "      <td>4</td>\n",
       "      <td>love the gyro plate. Rice is so good and I als...</td>\n",
       "      <td>review</td>\n",
       "      <td>0hT2KtfLiobPvh6cDC8JQg</td>\n",
       "      <td>0</td>\n",
       "      <td>1</td>\n",
       "      <td>0</td>\n",
       "    </tr>\n",
       "    <tr>\n",
       "      <th>G-WvGaISbqqaMHlNnByodA</th>\n",
       "      <td>_1QQZuf4zZOyFCvXc0o6Vg</td>\n",
       "      <td>2010-05-27</td>\n",
       "      <td>5</td>\n",
       "      <td>Rosie, Dakota, and I LOVE Chaparral Dog Park!!...</td>\n",
       "      <td>review</td>\n",
       "      <td>uZetl9T0NcROGOyFfughhg</td>\n",
       "      <td>1</td>\n",
       "      <td>2</td>\n",
       "      <td>0</td>\n",
       "    </tr>\n",
       "    <tr>\n",
       "      <th>1uJFq2r5QfJG_6ExMRCaGw</th>\n",
       "      <td>6ozycU1RpktNG2-1BroVtw</td>\n",
       "      <td>2012-01-05</td>\n",
       "      <td>5</td>\n",
       "      <td>General Manager Scott Petello is a good egg!!!...</td>\n",
       "      <td>review</td>\n",
       "      <td>vYmM4KTsC8ZfQBg-j5MWkw</td>\n",
       "      <td>0</td>\n",
       "      <td>0</td>\n",
       "      <td>0</td>\n",
       "    </tr>\n",
       "  </tbody>\n",
       "</table>\n",
       "</div>"
      ],
      "text/plain": [
       "                                   business_id        date  stars  \\\n",
       "review_id                                                           \n",
       "fWKvX83p0-ka4JS3dc6E5A  9yKzy9PApeiPPOUJEtnvkg  2011-01-26      5   \n",
       "IjZ33sJrzXqU-0X6U8NwyA  ZRJwVLyzEJq1VAihDhYiow  2011-07-27      5   \n",
       "IESLBzqUCLdSzSqm0eCSxQ  6oRAC4uyJCsJl1X0WZpVSA  2012-06-14      4   \n",
       "G-WvGaISbqqaMHlNnByodA  _1QQZuf4zZOyFCvXc0o6Vg  2010-05-27      5   \n",
       "1uJFq2r5QfJG_6ExMRCaGw  6ozycU1RpktNG2-1BroVtw  2012-01-05      5   \n",
       "\n",
       "                                                                     text  \\\n",
       "review_id                                                                   \n",
       "fWKvX83p0-ka4JS3dc6E5A  My wife took me here on my birthday for breakf...   \n",
       "IjZ33sJrzXqU-0X6U8NwyA  I have no idea why some people give bad review...   \n",
       "IESLBzqUCLdSzSqm0eCSxQ  love the gyro plate. Rice is so good and I als...   \n",
       "G-WvGaISbqqaMHlNnByodA  Rosie, Dakota, and I LOVE Chaparral Dog Park!!...   \n",
       "1uJFq2r5QfJG_6ExMRCaGw  General Manager Scott Petello is a good egg!!!...   \n",
       "\n",
       "                          type                 user_id  cool  useful  funny  \n",
       "review_id                                                                    \n",
       "fWKvX83p0-ka4JS3dc6E5A  review  rLtl8ZkDX5vH5nAx9C3q5Q     2       5      0  \n",
       "IjZ33sJrzXqU-0X6U8NwyA  review  0a2KyEL0d3Yb1V6aivbIuQ     0       0      0  \n",
       "IESLBzqUCLdSzSqm0eCSxQ  review  0hT2KtfLiobPvh6cDC8JQg     0       1      0  \n",
       "G-WvGaISbqqaMHlNnByodA  review  uZetl9T0NcROGOyFfughhg     1       2      0  \n",
       "1uJFq2r5QfJG_6ExMRCaGw  review  vYmM4KTsC8ZfQBg-j5MWkw     0       0      0  "
      ]
     },
     "execution_count": 245,
     "metadata": {},
     "output_type": "execute_result"
    }
   ],
   "source": [
    "import pandas as pd\n",
    "yelpURL= \"../data/yelp.csv\"\n",
    "yelpData=pd.read_csv(yelpURL,index_col=\"review_id\")\n",
    "yelpData.head(5)\n",
    "# access yelp.csv using a relative path"
   ]
  },
  {
   "cell_type": "markdown",
   "metadata": {},
   "source": [
    "## Task 1 (Bonus)\n",
    "\n",
    "Ignore the `yelp.csv` file, and construct this DataFrame yourself from `yelp.json`. This involves reading the data into Python, decoding the JSON, converting it to a DataFrame, and adding individual columns for each of the vote types."
   ]
  },
  {
   "cell_type": "code",
   "execution_count": 246,
   "metadata": {
    "collapsed": false,
    "scrolled": true
   },
   "outputs": [],
   "source": [
    "# read the data from yelp.json into a list of rows\n",
    "# each row is decoded into a dictionary using using json.loads()\n",
    "\n",
    "import json\n",
    "\n",
    "JSONdata = []\n",
    "with open('../data/yelp.JSON') as f:\n",
    "   for line in f: \n",
    "      JSONdata.append(json.loads(line))\n"
   ]
  },
  {
   "cell_type": "code",
   "execution_count": 247,
   "metadata": {
    "collapsed": false
   },
   "outputs": [
    {
     "data": {
      "text/plain": [
       "{u'business_id': u'9yKzy9PApeiPPOUJEtnvkg',\n",
       " u'date': u'2011-01-26',\n",
       " u'review_id': u'fWKvX83p0-ka4JS3dc6E5A',\n",
       " u'stars': 5,\n",
       " u'text': u'My wife took me here on my birthday for breakfast and it was excellent.  The weather was perfect which made sitting outside overlooking their grounds an absolute pleasure.  Our waitress was excellent and our food arrived quickly on the semi-busy Saturday morning.  It looked like the place fills up pretty quickly so the earlier you get here the better.\\n\\nDo yourself a favor and get their Bloody Mary.  It was phenomenal and simply the best I\\'ve ever had.  I\\'m pretty sure they only use ingredients from their garden and blend them fresh when you order it.  It was amazing.\\n\\nWhile EVERYTHING on the menu looks excellent, I had the white truffle scrambled eggs vegetable skillet and it was tasty and delicious.  It came with 2 pieces of their griddled bread with was amazing and it absolutely made the meal complete.  It was the best \"toast\" I\\'ve ever had.\\n\\nAnyway, I can\\'t wait to go back!',\n",
       " u'type': u'review',\n",
       " u'user_id': u'rLtl8ZkDX5vH5nAx9C3q5Q',\n",
       " u'votes': {u'cool': 2, u'funny': 0, u'useful': 5}}"
      ]
     },
     "execution_count": 247,
     "metadata": {},
     "output_type": "execute_result"
    }
   ],
   "source": [
    "# show the first review\n",
    "\n",
    "JSONdata[0]"
   ]
  },
  {
   "cell_type": "code",
   "execution_count": 248,
   "metadata": {
    "collapsed": false
   },
   "outputs": [
    {
     "data": {
      "text/html": [
       "<div>\n",
       "<table border=\"1\" class=\"dataframe\">\n",
       "  <thead>\n",
       "    <tr style=\"text-align: right;\">\n",
       "      <th></th>\n",
       "      <th>business_id</th>\n",
       "      <th>date</th>\n",
       "      <th>review_id</th>\n",
       "      <th>stars</th>\n",
       "      <th>text</th>\n",
       "      <th>type</th>\n",
       "      <th>user_id</th>\n",
       "      <th>votes</th>\n",
       "    </tr>\n",
       "  </thead>\n",
       "  <tbody>\n",
       "    <tr>\n",
       "      <th>0</th>\n",
       "      <td>9yKzy9PApeiPPOUJEtnvkg</td>\n",
       "      <td>2011-01-26</td>\n",
       "      <td>fWKvX83p0-ka4JS3dc6E5A</td>\n",
       "      <td>5</td>\n",
       "      <td>My wife took me here on my birthday for breakf...</td>\n",
       "      <td>review</td>\n",
       "      <td>rLtl8ZkDX5vH5nAx9C3q5Q</td>\n",
       "      <td>{u'funny': 0, u'useful': 5, u'cool': 2}</td>\n",
       "    </tr>\n",
       "    <tr>\n",
       "      <th>1</th>\n",
       "      <td>ZRJwVLyzEJq1VAihDhYiow</td>\n",
       "      <td>2011-07-27</td>\n",
       "      <td>IjZ33sJrzXqU-0X6U8NwyA</td>\n",
       "      <td>5</td>\n",
       "      <td>I have no idea why some people give bad review...</td>\n",
       "      <td>review</td>\n",
       "      <td>0a2KyEL0d3Yb1V6aivbIuQ</td>\n",
       "      <td>{u'funny': 0, u'useful': 0, u'cool': 0}</td>\n",
       "    </tr>\n",
       "  </tbody>\n",
       "</table>\n",
       "</div>"
      ],
      "text/plain": [
       "              business_id        date               review_id  stars  \\\n",
       "0  9yKzy9PApeiPPOUJEtnvkg  2011-01-26  fWKvX83p0-ka4JS3dc6E5A      5   \n",
       "1  ZRJwVLyzEJq1VAihDhYiow  2011-07-27  IjZ33sJrzXqU-0X6U8NwyA      5   \n",
       "\n",
       "                                                text    type  \\\n",
       "0  My wife took me here on my birthday for breakf...  review   \n",
       "1  I have no idea why some people give bad review...  review   \n",
       "\n",
       "                  user_id                                    votes  \n",
       "0  rLtl8ZkDX5vH5nAx9C3q5Q  {u'funny': 0, u'useful': 5, u'cool': 2}  \n",
       "1  0a2KyEL0d3Yb1V6aivbIuQ  {u'funny': 0, u'useful': 0, u'cool': 0}  "
      ]
     },
     "execution_count": 248,
     "metadata": {},
     "output_type": "execute_result"
    }
   ],
   "source": [
    "# convert the list of dictionaries to a DataFrame\n",
    "\n",
    "yelpFrame = pd.DataFrame(JSONdata)\n",
    "\n",
    "yelpFrame.head(2)"
   ]
  },
  {
   "cell_type": "code",
   "execution_count": 249,
   "metadata": {
    "collapsed": false
   },
   "outputs": [
    {
     "name": "stdout",
     "output_type": "stream",
     "text": [
      "              business_id        date               review_id  stars  \\\n",
      "0  9yKzy9PApeiPPOUJEtnvkg  2011-01-26  fWKvX83p0-ka4JS3dc6E5A      5   \n",
      "1  ZRJwVLyzEJq1VAihDhYiow  2011-07-27  IjZ33sJrzXqU-0X6U8NwyA      5   \n",
      "2  6oRAC4uyJCsJl1X0WZpVSA  2012-06-14  IESLBzqUCLdSzSqm0eCSxQ      4   \n",
      "3  _1QQZuf4zZOyFCvXc0o6Vg  2010-05-27  G-WvGaISbqqaMHlNnByodA      5   \n",
      "4  6ozycU1RpktNG2-1BroVtw  2012-01-05  1uJFq2r5QfJG_6ExMRCaGw      5   \n",
      "\n",
      "                                                text    type  \\\n",
      "0  My wife took me here on my birthday for breakf...  review   \n",
      "1  I have no idea why some people give bad review...  review   \n",
      "2  love the gyro plate. Rice is so good and I als...  review   \n",
      "3  Rosie, Dakota, and I LOVE Chaparral Dog Park!!...  review   \n",
      "4  General Manager Scott Petello is a good egg!!!...  review   \n",
      "\n",
      "                  user_id                                    votes  \\\n",
      "0  rLtl8ZkDX5vH5nAx9C3q5Q  {u'funny': 0, u'useful': 5, u'cool': 2}   \n",
      "1  0a2KyEL0d3Yb1V6aivbIuQ  {u'funny': 0, u'useful': 0, u'cool': 0}   \n",
      "2  0hT2KtfLiobPvh6cDC8JQg  {u'funny': 0, u'useful': 1, u'cool': 0}   \n",
      "3  uZetl9T0NcROGOyFfughhg  {u'funny': 0, u'useful': 2, u'cool': 1}   \n",
      "4  vYmM4KTsC8ZfQBg-j5MWkw  {u'funny': 0, u'useful': 0, u'cool': 0}   \n",
      "\n",
      "   funnyRating  UsefulRating  CoolRating  \n",
      "0            0             5           2  \n",
      "1            0             0           0  \n",
      "2            0             1           0  \n",
      "3            0             2           1  \n",
      "4            0             0           0  \n"
     ]
    }
   ],
   "source": [
    "# add DataFrame columns for cool, useful, and funny\n",
    "\n",
    "coolList =[]\n",
    "usefulList =[]\n",
    "funnyList=[]\n",
    "for ind,row in yelpFrame.iterrows():\n",
    "    funnyList.append(row[\"votes\"][\"funny\"])\n",
    "    usefulList.append(row[\"votes\"][\"useful\"])\n",
    "    coolList.append(row[\"votes\"][\"cool\"])\n",
    "\n",
    "yelpFrame[\"funnyRating\"]=funnyList\n",
    "yelpFrame[\"UsefulRating\"]=usefulList\n",
    "yelpFrame[\"CoolRating\"]=coolList\n",
    "\n",
    "print yelpFrame.head(5)"
   ]
  },
  {
   "cell_type": "code",
   "execution_count": 250,
   "metadata": {
    "collapsed": false
   },
   "outputs": [
    {
     "name": "stdout",
     "output_type": "stream",
     "text": [
      "              business_id        date               review_id  stars  \\\n",
      "0  9yKzy9PApeiPPOUJEtnvkg  2011-01-26  fWKvX83p0-ka4JS3dc6E5A      5   \n",
      "1  ZRJwVLyzEJq1VAihDhYiow  2011-07-27  IjZ33sJrzXqU-0X6U8NwyA      5   \n",
      "2  6oRAC4uyJCsJl1X0WZpVSA  2012-06-14  IESLBzqUCLdSzSqm0eCSxQ      4   \n",
      "3  _1QQZuf4zZOyFCvXc0o6Vg  2010-05-27  G-WvGaISbqqaMHlNnByodA      5   \n",
      "4  6ozycU1RpktNG2-1BroVtw  2012-01-05  1uJFq2r5QfJG_6ExMRCaGw      5   \n",
      "\n",
      "                                                text    type  \\\n",
      "0  My wife took me here on my birthday for breakf...  review   \n",
      "1  I have no idea why some people give bad review...  review   \n",
      "2  love the gyro plate. Rice is so good and I als...  review   \n",
      "3  Rosie, Dakota, and I LOVE Chaparral Dog Park!!...  review   \n",
      "4  General Manager Scott Petello is a good egg!!!...  review   \n",
      "\n",
      "                  user_id  funnyRating  UsefulRating  CoolRating  \n",
      "0  rLtl8ZkDX5vH5nAx9C3q5Q            0             5           2  \n",
      "1  0a2KyEL0d3Yb1V6aivbIuQ            0             0           0  \n",
      "2  0hT2KtfLiobPvh6cDC8JQg            0             1           0  \n",
      "3  uZetl9T0NcROGOyFfughhg            0             2           1  \n",
      "4  vYmM4KTsC8ZfQBg-j5MWkw            0             0           0  \n"
     ]
    }
   ],
   "source": [
    "# drop the votes column\n",
    "\n",
    "yelpFrame.drop(\"votes\", axis=1, inplace=True)\n",
    "\n",
    "print yelpFrame.head(5)"
   ]
  },
  {
   "cell_type": "markdown",
   "metadata": {},
   "source": [
    "## Task 2\n",
    "\n",
    "Explore the relationship between each of the vote types (cool/useful/funny) and the number of stars."
   ]
  },
  {
   "cell_type": "code",
   "execution_count": 251,
   "metadata": {
    "collapsed": false
   },
   "outputs": [
    {
     "data": {
      "text/html": [
       "<div>\n",
       "<table border=\"1\" class=\"dataframe\">\n",
       "  <thead>\n",
       "    <tr style=\"text-align: right;\">\n",
       "      <th></th>\n",
       "      <th>funnyRating</th>\n",
       "      <th>UsefulRating</th>\n",
       "      <th>CoolRating</th>\n",
       "    </tr>\n",
       "    <tr>\n",
       "      <th>stars</th>\n",
       "      <th></th>\n",
       "      <th></th>\n",
       "      <th></th>\n",
       "    </tr>\n",
       "  </thead>\n",
       "  <tbody>\n",
       "    <tr>\n",
       "      <th>1</th>\n",
       "      <td>1.056075</td>\n",
       "      <td>1.604806</td>\n",
       "      <td>0.576769</td>\n",
       "    </tr>\n",
       "    <tr>\n",
       "      <th>2</th>\n",
       "      <td>0.875944</td>\n",
       "      <td>1.563107</td>\n",
       "      <td>0.719525</td>\n",
       "    </tr>\n",
       "    <tr>\n",
       "      <th>3</th>\n",
       "      <td>0.694730</td>\n",
       "      <td>1.306639</td>\n",
       "      <td>0.788501</td>\n",
       "    </tr>\n",
       "    <tr>\n",
       "      <th>4</th>\n",
       "      <td>0.670448</td>\n",
       "      <td>1.395916</td>\n",
       "      <td>0.954623</td>\n",
       "    </tr>\n",
       "    <tr>\n",
       "      <th>5</th>\n",
       "      <td>0.608631</td>\n",
       "      <td>1.381780</td>\n",
       "      <td>0.944261</td>\n",
       "    </tr>\n",
       "  </tbody>\n",
       "</table>\n",
       "</div>"
      ],
      "text/plain": [
       "       funnyRating  UsefulRating  CoolRating\n",
       "stars                                       \n",
       "1         1.056075      1.604806    0.576769\n",
       "2         0.875944      1.563107    0.719525\n",
       "3         0.694730      1.306639    0.788501\n",
       "4         0.670448      1.395916    0.954623\n",
       "5         0.608631      1.381780    0.944261"
      ]
     },
     "execution_count": 251,
     "metadata": {},
     "output_type": "execute_result"
    }
   ],
   "source": [
    "# treat stars as a categorical variable and look for differences between groups\n",
    "\n",
    "#yelpFrame.stars.value_counts()\n",
    "#yelpFrame.funnyRating.value_counts()\n",
    "#yelpFrame.UsefulRating.value_counts()\n",
    "\n",
    "\n",
    "yelpFrame.groupby(\"stars\").count()\n",
    "yelpFrame.groupby(\"stars\").mean()\n",
    "\n",
    "\n"
   ]
  },
  {
   "cell_type": "code",
   "execution_count": 252,
   "metadata": {
    "collapsed": false
   },
   "outputs": [
    {
     "data": {
      "text/plain": [
       "<matplotlib.axes._subplots.AxesSubplot at 0x2a796ef0>"
      ]
     },
     "execution_count": 252,
     "metadata": {},
     "output_type": "execute_result"
    },
    {
     "data": {
      "image/png": "[encoded data removed]",
      "text/plain": [
       "<matplotlib.figure.Figure at 0x2588bbe0>"
      ]
     },
     "metadata": {},
     "output_type": "display_data"
    },
    {
     "data": {
      "image/png": "[encoded data removed]",
      "text/plain": [
       "<matplotlib.figure.Figure at 0x25496128>"
      ]
     },
     "metadata": {},
     "output_type": "display_data"
    },
    {
     "data": {
      "image/png": "[encoded data removed]",
      "text/plain": [
       "<matplotlib.figure.Figure at 0x26e2ceb8>"
      ]
     },
     "metadata": {},
     "output_type": "display_data"
    },
    {
     "data": {
      "image/png": "[encoded data removed]",
      "text/plain": [
       "<matplotlib.figure.Figure at 0x2a628630>"
      ]
     },
     "metadata": {},
     "output_type": "display_data"
    }
   ],
   "source": [
    "# correlation matrix\n",
    "import matplotlib.pyplot as plt\n",
    "\n",
    "%matplotlib inline\n",
    "\n",
    "#yelpFrame.boxplot(column='funnyRating', by='stars')\n",
    "#yelpFrame.boxplot(column='UsefulRating', by='stars')\n",
    "yelpFrame.boxplot(column='CoolRating', by='stars')\n",
    "\n",
    "yelpFrame.corr()\n",
    "\n",
    "yelpFrame.plot(kind='scatter', x='funnyRating', y='stars', alpha=0.2)\n",
    "yelpFrame.plot(kind='scatter', x='UsefulRating', y='stars', alpha=0.2)\n",
    "yelpFrame.plot(kind='scatter', x='CoolRating', y='stars', alpha=0.2)\n",
    "\n",
    "\n"
   ]
  },
  {
   "cell_type": "markdown",
   "metadata": {},
   "source": [
    "## Task 3\n",
    "\n",
    "Define cool/useful/funny as the features, and stars as the response."
   ]
  },
  {
   "cell_type": "code",
   "execution_count": 253,
   "metadata": {
    "collapsed": false
   },
   "outputs": [
    {
     "name": "stdout",
     "output_type": "stream",
     "text": [
      "   funnyRating  UsefulRating  CoolRating\n",
      "0            0             5           2\n",
      "1            0             0           0\n",
      "2            0             1           0\n",
      "3            0             2           1\n",
      "4            0             0           0\n",
      "0    5\n",
      "1    5\n",
      "2    4\n",
      "3    5\n",
      "4    5\n",
      "Name: stars, dtype: int64\n"
     ]
    }
   ],
   "source": [
    "feature_cols = ['funnyRating',\"UsefulRating\", \"CoolRating\"]\n",
    "X=yelpFrame[feature_cols]\n",
    "print X.head(5)\n",
    "y=yelpFrame.stars\n",
    "\n",
    "\n",
    "print y.head(5)"
   ]
  },
  {
   "cell_type": "markdown",
   "metadata": {},
   "source": [
    "## Task 4\n",
    "\n",
    "Fit a linear regression model and interpret the coefficients. Do the coefficients make intuitive sense to you? Explore the Yelp website to see if you detect similar trends."
   ]
  },
  {
   "cell_type": "code",
   "execution_count": 254,
   "metadata": {
    "collapsed": false
   },
   "outputs": [
    {
     "name": "stdout",
     "output_type": "stream",
     "text": [
      "3.83989479278\n",
      "[-0.13567449 -0.14745239  0.27435947]\n"
     ]
    }
   ],
   "source": [
    "from sklearn.linear_model import LinearRegression\n",
    "\n",
    "linreg = LinearRegression()\n",
    "linreg.fit(X, y)\n",
    "\n",
    "print linreg.intercept_\n",
    "print linreg.coef_\n",
    "\n",
    "#Interesting Results. The Y-Intercept tells me that with 0 votes, we start at an average of 3.84 stars.\n",
    "#the -0.135 coefficient tells me for a 1 vote increase in the funny rating, I expect a 0.13 decrease in the stars.\n",
    "# for Useful, for 1 vote increase in the useful vote, I expect a 0.14 decrease in stars.\n",
    "# For \"Cool\", votes ADD an expected 0.274 stars to the overall vote.\n",
    "# So, there is a trend of many 1 or 2 star reviews that are  \"funny\" or \"useful\". So an angry customer leaves 1 stars, \n",
    "# and people vote that as \"useful\" or \"funny\"-angry.\n",
    "# If it's a cool review, then it's more likely to be a higher 4 to 5 star review."
   ]
  },
  {
   "cell_type": "markdown",
   "metadata": {},
   "source": [
    "## Task 5\n",
    "\n",
    "Evaluate the model by splitting it into training and testing sets and computing the RMSE. Does the RMSE make intuitive sense to you?"
   ]
  },
  {
   "cell_type": "code",
   "execution_count": 255,
   "metadata": {
    "collapsed": false
   },
   "outputs": [
    {
     "name": "stdout",
     "output_type": "stream",
     "text": [
      "1.18429052822\n"
     ]
    }
   ],
   "source": [
    "# calculate RMSE with all three features\n",
    "\n",
    "from sklearn import metrics\n",
    "from sklearn.cross_validation import train_test_split\n",
    "import numpy as np\n",
    "\n",
    "X_train, X_test, y_train, y_test = train_test_split(X, y, random_state=1)\n",
    "linreg.fit(X_train, y_train)\n",
    "y_pred = linreg.predict(X_test)\n",
    "\n",
    "print np.sqrt(metrics.mean_squared_error(y_test, y_pred))\n",
    "\n"
   ]
  },
  {
   "cell_type": "code",
   "execution_count": 257,
   "metadata": {
    "collapsed": true
   },
   "outputs": [],
   "source": [
    "# define a function that accepts a list of features and returns testing RMSE\n",
    "def rmseYELP(selected_Cols):\n",
    "    X = yelpFrame[selected_Cols]\n",
    "    y = yelpFrame.stars\n",
    "    X_train, X_test, y_train, y_test = train_test_split(X, y, random_state=1)\n",
    "    linreg2 = LinearRegression()\n",
    "    linreg2.fit(X_train, y_train)\n",
    "    y_pred = linreg2.predict(X_test)\n",
    "    return np.sqrt(metrics.mean_squared_error(y_test, y_pred))\n",
    "\n"
   ]
  },
  {
   "cell_type": "code",
   "execution_count": 256,
   "metadata": {
    "collapsed": false
   },
   "outputs": [
    {
     "data": {
      "text/plain": [
       "1.1842905282165914"
      ]
     },
     "execution_count": 256,
     "metadata": {},
     "output_type": "execute_result"
    }
   ],
   "source": [
    "feature_cols = ['funnyRating',\"UsefulRating\", \"CoolRating\"]\n",
    "rmseYELP(feature_cols)\n"
   ]
  },
  {
   "cell_type": "markdown",
   "metadata": {},
   "source": [
    "## Task 6\n",
    "\n",
    "Try removing some of the features and see if the RMSE improves."
   ]
  },
  {
   "cell_type": "code",
   "execution_count": 259,
   "metadata": {
    "collapsed": false
   },
   "outputs": [
    {
     "data": {
      "text/plain": [
       "1.2102311629333229"
      ]
     },
     "execution_count": 259,
     "metadata": {},
     "output_type": "execute_result"
    }
   ],
   "source": [
    "#feature_cols = ['funnyRating',\"UsefulRating\", \"CoolRating\"]\n",
    "#feature_cols = ['funnyRating',\"CoolRating\"] #1.1942673256493725\n",
    "#feature_cols = ['funnyRating',\"UsefulRating\"] #1.2098272023900722\n",
    "#feature_cols = ['CoolRating',\"UsefulRating\"] #1.1962390876092985\n",
    "#feature_cols = ['CoolRating'] #1.2105519534116305\n",
    "#feature_cols = ['UsefulRating'] #1.21191891478452\n",
    "feature_cols = ['funnyRating'] #1.2102311629333229\n",
    "\n",
    "#I could not reduce the RMSE with any combination of less feature variables. This tells me that the 3 variables \n",
    "#each add unique predictive power to the dataset.\n",
    "\n",
    "rmseYELP(feature_cols)"
   ]
  },
  {
   "cell_type": "code",
   "execution_count": null,
   "metadata": {
    "collapsed": true
   },
   "outputs": [],
   "source": []
  },
  {
   "cell_type": "markdown",
   "metadata": {},
   "source": [
    "## Task 7 (Bonus)\n",
    "\n",
    "Think of some new features you could create from the existing data that might be predictive of the response. Figure out how to create those features in Pandas, add them to your model, and see if the RMSE improves."
   ]
  },
  {
   "cell_type": "code",
   "execution_count": 350,
   "metadata": {
    "collapsed": false,
    "scrolled": true
   },
   "outputs": [],
   "source": [
    "# new feature: review length (number of characters)\n",
    "yelpFrame.head(5)\n",
    "\n",
    "#print yelpFrame.text[0]\n",
    "\n",
    "lengthList =[]\n",
    "for ind,row in yelpFrame.iterrows():\n",
    "    lengthList.append(len(row.text))\n",
    "\n",
    "yelpFrame[\"lengthReview\"]=lengthList\n",
    "\n"
   ]
  },
  {
   "cell_type": "code",
   "execution_count": 351,
   "metadata": {
    "collapsed": false,
    "scrolled": true
   },
   "outputs": [],
   "source": [
    "# new features: whether or not the review contains 'love' or 'hate'\n",
    "\n",
    "loveList=yelpFrame.text.str.contains(\"love\")\n",
    "hateList=yelpFrame.text.str.contains(\"hate\")\n",
    "\n",
    "yelpFrame[\"loveBoolean\"]=loveList\n",
    "yelpFrame[\"hateBoolean\"]=hateList\n",
    "\n",
    "#print yelpFrame.loveBoolean.value_counts()\n",
    "#print yelpFrame.hateBoolean.value_counts()\n",
    "\n",
    "#print yelpFrame[yelpFrame.hateBoolean==True].text\n",
    "\n",
    "#print yelpFrame.text[9921]"
   ]
  },
  {
   "cell_type": "code",
   "execution_count": 353,
   "metadata": {
    "collapsed": false
   },
   "outputs": [
    {
     "data": {
      "text/plain": [
       "1.1659058956221358"
      ]
     },
     "execution_count": 353,
     "metadata": {},
     "output_type": "execute_result"
    }
   ],
   "source": [
    "# add new features to the model and calculate RMSE\n",
    "\n",
    "feature_cols = ['funnyRating',\"UsefulRating\", \"CoolRating\", \"lengthReview\", \"loveBoolean\",\"hateBoolean\"]\n",
    "\n",
    "rmseYELP(feature_cols)\n",
    "\n",
    "#New RMSE is 1.165905, a reduction from before."
   ]
  },
  {
   "cell_type": "markdown",
   "metadata": {},
   "source": [
    "## Task 8 (Bonus)\n",
    "\n",
    "Compare your best RMSE on the testing set with the RMSE for the \"null model\", which is the model that ignores all features and simply predicts the mean response value in the testing set."
   ]
  },
  {
   "cell_type": "code",
   "execution_count": 354,
   "metadata": {
    "collapsed": true
   },
   "outputs": [],
   "source": [
    "# split the data (outside of the function)\n",
    "\n",
    "X_train, X_test, y_train, y_test = train_test_split(X, y, random_state=1)"
   ]
  },
  {
   "cell_type": "code",
   "execution_count": 357,
   "metadata": {
    "collapsed": false
   },
   "outputs": [],
   "source": [
    "# create a NumPy array with the same shape as y_test\n",
    "\n",
    "# ## Comparing testing RMSE with null RMSE\n",
    "# Null RMSE is the RMSE that could be achieved by **always predicting the mean response value**. It is a benchmark against which you may want to measure your regression model.\n",
    "\n",
    "# create a NumPy array with the same shape as y_test\n",
    "y_null = np.zeros_like(y_test, dtype=float)\n",
    "\n",
    "\n"
   ]
  },
  {
   "cell_type": "code",
   "execution_count": 358,
   "metadata": {
    "collapsed": true
   },
   "outputs": [],
   "source": [
    "# fill the array with the mean of y_test\n",
    "# fill the array with the mean value of y_test\n",
    "y_null.fill(y_test.mean())\n"
   ]
  },
  {
   "cell_type": "code",
   "execution_count": 359,
   "metadata": {
    "collapsed": false
   },
   "outputs": [
    {
     "name": "stdout",
     "output_type": "stream",
     "text": [
      "1.21232761249\n"
     ]
    }
   ],
   "source": [
    "# calculate null RMSE\n",
    "\n",
    "print  np.sqrt(metrics.mean_squared_error(y_test, y_null))\n"
   ]
  },
  {
   "cell_type": "markdown",
   "metadata": {},
   "source": [
    "## Task 9 (Bonus)\n",
    "\n",
    "Instead of treating this as a regression problem, treat it as a classification problem and see what testing accuracy you can achieve with KNN."
   ]
  },
  {
   "cell_type": "code",
   "execution_count": 374,
   "metadata": {
    "collapsed": false
   },
   "outputs": [
    {
     "data": {
      "text/plain": [
       "sklearn.neighbors.classification.KNeighborsClassifier"
      ]
     },
     "execution_count": 374,
     "metadata": {},
     "output_type": "execute_result"
    }
   ],
   "source": [
    "# import and instantiate KNN\n",
    "\n",
    "from sklearn.neighbors import KNeighborsClassifier\n",
    "\n",
    "knn = KNeighborsClassifier(n_neighbors=50)\n",
    "type(knn)"
   ]
  },
  {
   "cell_type": "code",
   "execution_count": 401,
   "metadata": {
    "collapsed": false
   },
   "outputs": [
    {
     "name": "stdout",
     "output_type": "stream",
     "text": [
      "0.3608\n"
     ]
    }
   ],
   "source": [
    "# classification models will automatically treat the response value (1/2/3/4/5) as unordered categories\n",
    "\n",
    "X_train, X_test, y_train, y_test = train_test_split(X, y, random_state=5)\n",
    "\n",
    "knn.fit(X_train, y_train)\n",
    "yKNNPrediction=knn.predict(X_test)\n",
    "\n",
    "print metrics.accuracy_score(y_test,yKNNPrediction)\n"
   ]
  },
  {
   "cell_type": "markdown",
   "metadata": {},
   "source": [
    "## Task 10 (Bonus)\n",
    "\n",
    "Figure out how to use linear regression for classification, and compare its classification accuracy with KNN's accuracy."
   ]
  },
  {
   "cell_type": "code",
   "execution_count": 395,
   "metadata": {
    "collapsed": true
   },
   "outputs": [],
   "source": [
    "# use linear regression to make continuous predictions\n",
    "\n",
    "linreg = LinearRegression()\n",
    "linreg.fit(X_train, y_train)\n",
    "starPredicted=linreg.predict(X_test)"
   ]
  },
  {
   "cell_type": "code",
   "execution_count": 402,
   "metadata": {
    "collapsed": false
   },
   "outputs": [
    {
     "ename": "AttributeError",
     "evalue": "'numpy.ndarray' object has no attribute 'head'",
     "output_type": "error",
     "traceback": [
      "\u001b[1;31m---------------------------------------------------------------------------\u001b[0m",
      "\u001b[1;31mAttributeError\u001b[0m                            Traceback (most recent call last)",
      "\u001b[1;32m<ipython-input-402-d81d770611ed>\u001b[0m in \u001b[0;36m<module>\u001b[1;34m()\u001b[0m\n\u001b[0;32m      2\u001b[0m \u001b[0my_predicted_round\u001b[0m\u001b[1;33m=\u001b[0m\u001b[0mstarPredicted\u001b[0m\u001b[1;33m.\u001b[0m\u001b[0mround\u001b[0m\u001b[1;33m(\u001b[0m\u001b[1;33m)\u001b[0m\u001b[1;33m\u001b[0m\u001b[0m\n\u001b[0;32m      3\u001b[0m \u001b[1;33m\u001b[0m\u001b[0m\n\u001b[1;32m----> 4\u001b[1;33m \u001b[0my_predicted_round\u001b[0m\u001b[1;33m.\u001b[0m\u001b[0mhead\u001b[0m\u001b[1;33m(\u001b[0m\u001b[1;36m5\u001b[0m\u001b[1;33m)\u001b[0m\u001b[1;33m\u001b[0m\u001b[0m\n\u001b[0m",
      "\u001b[1;31mAttributeError\u001b[0m: 'numpy.ndarray' object has no attribute 'head'"
     ]
    }
   ],
   "source": [
    "# round its predictions to the nearest integer\n",
    "y_predicted_round=starPredicted.round()\n"
   ]
  },
  {
   "cell_type": "code",
   "execution_count": 400,
   "metadata": {
    "collapsed": false
   },
   "outputs": [
    {
     "name": "stdout",
     "output_type": "stream",
     "text": [
      "0.3464\n"
     ]
    }
   ],
   "source": [
    "# calculate classification accuracy of the rounded predictions\n",
    "print metrics.accuracy_score(y_test, y_predicted_round)\n",
    "\n",
    "#Compared to the KNN, I scored a .3464 accuracy rate compared to 0.3608 rate.\n"
   ]
  }
 ],
 "metadata": {
  "kernelspec": {
   "display_name": "Python 2",
   "language": "python",
   "name": "python2"
  },
  "language_info": {
   "codemirror_mode": {
    "name": "ipython",
    "version": 2
   },
   "file_extension": ".py",
   "mimetype": "text/x-python",
   "name": "python",
   "nbconvert_exporter": "python",
   "pygments_lexer": "ipython2",
   "version": "2.7.10"
  }
 },
 "nbformat": 4,
 "nbformat_minor": 0
}
